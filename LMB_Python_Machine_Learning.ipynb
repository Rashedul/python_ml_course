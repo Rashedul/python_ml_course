{
 "cells": [
  {
   "cell_type": "markdown",
   "metadata": {},
   "source": [
    "# Machine learning in python"
   ]
  },
  {
   "cell_type": "markdown",
   "metadata": {},
   "source": [
    "# Machine learning basics\n",
    "\n",
    "## What is machine learning?\n",
    "Fundamentally, machine learning involves building mathematical models that help understand data. The learning component arises from the way models have tunable parameters that can be adjusted to fit to some training data. Ideally, once these models have been fit to previously seen training data, they are able to predict some aspect of newly observed data.\n",
    "\n",
    "This lecture aims to teach you the basic concepts of machine learning, typical machine learning workflows and code based examples for simple problems using python and [scikit-learn](https://scikit-learn.org)."
   ]
  },
  {
   "cell_type": "markdown",
   "metadata": {},
   "source": [
    "## Three different types of machine learning\n",
    "<BR CLEAR=\"left\">\n",
    "<img src=\"images_ML/03_01.png\" style=\"width: 400px;\" align=\"left\"/>\n",
    "<BR CLEAR=\"left\">\n",
    "    \n",
    "    \n",
    "\n",
    "## Unsupervised learning:  Discovering structure in data\n",
    "Unsupervised learning involves models that describe data without reference to any known labels.\n",
    "\n",
    "\n",
    "### Clustering - Inferring labels on unlabeled data\n",
    "One common case of unsupervised learning is clustering. Here data is automatically assigned to some number of discrete groups. For example, we might have some two-dimensional data like that shown in the following figure:\n",
    "<BR CLEAR=\"left\">\n",
    "<img src=\"images_ML/03_02.png\" style=\"width: 300px;\" align=\"left\"/>\n",
    "<BR CLEAR=\"left\">\n",
    "\n",
    "By eye, it is very clear that the points belong to three distinct and separate classes. Given the input of points, a clustering algorithm will use the intrinsic structure of the data to determine which points are related to each other. An example algorithm for this is [k-means clustering](https://scikit-learn.org/stable/modules/clustering.html#k-means).\n",
    "\n",
    "\n",
    "\n",
    "\n",
    "### Dimensionality reduction and manifold learning - Inferring structure on unlabeled data\n",
    "Dimensionality reduction is another example of unsupervised learning. However, unlike clustering, dimensionality reduction attempts to extract a lower dimensional representation of the data whilst preserving the relevant qualities of the full dataset. In the following examples, we can see how different dimensionality reduction algorithms transform 3d data into a 2d representation.\n",
    "\n",
    "<BR CLEAR=\"left\">\n",
    "<img src=\"images_ML/03_03.png\" style=\"width: 800px;\" align=\"left\"/>\n",
    "<BR CLEAR=\"left\">\n",
    "<img src=\"images_ML/03_04.png\" style=\"width: 800px;\" align=\"left\"/>\n",
    "<BR CLEAR=\"left\">\n",
    "\n",
    "SciKit-learn has a large number of algorithms for [dimensionality reduction](https://scikit-learn.org/stable/modules/decomposition.html#decompositions).\n",
    "\n",
    "\n",
    "## Supervised learning: Making predictions\n",
    "\n",
    "### Classification - Predicting discrete labels\n",
    "Classification algorithms are supervised learning methods that aim to group unseen data into some set number of labels. In this example, we have two-dimensional data. That is, we have two features for each point, represented by the (x,y) positions of the points on the plot.\n",
    "\n",
    "Further, we have one of two class labels for each point - represented by the colors of the points. From these features and labels, we would like to create a model that will let us decide whether a new point should be labeled \"blue\" or \"red.\"\n",
    "\n",
    "There are many classification algorithms available, each with their own strengths and weaknesses, but in this example, we will use a very simple linear classifier to separate the points. To do so, we will make the assumption that the two groups can be separated by drawing a straight line through the plane between them, such that points on each side of the line fall in the same group. The optimal values for these model parameters are learned from the data (this is the \"learning\" in machine learning), which is often called training the model.\n",
    "<BR CLEAR=\"left\">\n",
    "<img src=\"images_ML/03_05.png\" style=\"width: 300px;\" align=\"left\"/>\n",
    "<BR CLEAR=\"left\">\n",
    "\n",
    "This is the basic idea of a classification task in machine learning, where \"classification\" indicates that the data has known and discrete class labels. In the above example, this may look fairly trivial. However, most real datasets are significantly more complex, due to the size of the dataset and number of extra dimensions. For example, a protein sequence of length 100 has 2,000 dimensions. That being said, the advantage of the more advanced machine learning algorithms are that they are able to handle such sizes and dimensionality, whilst generalising to unseen data.\n",
    "\n",
    "SciKit-learn has a large number of common algorithms for [classification](https://scikit-learn.org/stable/supervised_learning.html#supervised-learning).\n",
    "\n",
    "\n",
    "### Regression - Predicting continuous labels\n",
    "In contrast with classification, which uses discrete labels, regression tasks are those where the labels are continuous quantities.\n",
    "\n",
    "Consider the following plot. As with the classification problem, the data is two-dimensional, however, unlike classification, this regression problem aims to predict the value of y for a given value of x.\n",
    "In this example, we have fit a simple linear regression model to the data.\n",
    "<BR CLEAR=\"left\">\n",
    "<img src=\"images_ML/03_06.png\" style=\"width: 300px;\" align=\"left\"/>\n",
    "<BR CLEAR=\"left\">\n",
    "\n",
    "Many of you will have come across regression models when dealing biological data, such as linear and logistic regression.\n",
    "\n",
    "### Solving interactive problems with reinforcement learning\n",
    "<BR CLEAR=\"left\">\n",
    "<img src=\"images_ML/03_07.png\" style=\"width: 400px;\" align=\"left\"/>\n",
    "<BR CLEAR=\"left\">\n",
    "\n",
    "\n"
   ]
  },
  {
   "cell_type": "markdown",
   "metadata": {},
   "source": [
    "## A roadmap for building machine learning systems\n",
    "\n",
    "<BR CLEAR=\"left\">\n",
    "<img src=\"images_ML/03_08.png\" style=\"width: 1000px;\" align=\"left\"/>\n",
    "<BR CLEAR=\"left\">\n",
    "\n"
   ]
  },
  {
   "cell_type": "markdown",
   "metadata": {},
   "source": []
  },
  {
   "cell_type": "markdown",
   "metadata": {},
   "source": [
    "## Scikit-learn\n",
    "\n",
    "[Scikit-learn](https://scikit-learn.org/stable/index.html) is a free machine learning library for python, that provides a wide range of supervised and unsupervised learning algorithms through a consistent interface.\n",
    "\n",
    "Scikit-learn is built on the SciPy (Scientific Python) library, and requires the following stack:\n",
    "* __SciPy__: Fundamental library for scientific computing\n",
    "* __NumPy__: Base n-dimensional array package\n",
    "* __Matplotlib__: Comprehensive 2D/3D plotting\n",
    "* __IPython__: Enhanced interactive console\n",
    "* __Sympy__: Symbolic mathematics\n",
    "* __Pandas__: Data structures and analysis\n",
    "\n",
    "Extensions or modules for SciPy are called [SciKits](https://scikits.appspot.com/scikits). As such, the module that provides learning algorithms is named scikit-learn.\n",
    "\n",
    "The strives for a level of robustness and support required for use in production environments. This means there is a deep focus on ease of use, code quality, collaboration, documentation and performance."
   ]
  },
  {
   "cell_type": "markdown",
   "metadata": {},
   "source": [
    "Scikit-learn is focused on modelling data. It does not provide the means for loading and manipulating your datasets; for this, you will need to use [NumPy](https://www.numpy.org/), [SciPy](https://www.scipy.org/), [Pandas](https://pandas.pydata.org/) and or [SciKit-image](https://scikit-image.org/).\n",
    "\n",
    "Sckit-learn provides functions and tools for the following:\n",
    "\n",
    "* __Clustering__: for grouping unlabeled data such as KMeans.\n",
    "* __Cross Validation__: for estimating the performance of supervised models on unseen data.\n",
    "* __Datasets__: for test datasets and for generating datasets with specific properties when investigating model behavior.\n",
    "* __Dimensionality Reduction__: for reducing the number of attributes in data for summarization, visualization and feature selection such as principal component analysis (PCA).\n",
    "* __Ensemble methods__: for combining the predictions of multiple supervised models.\n",
    "* __Feature extraction__: for defining attributes in image and text data.\n",
    "* __Feature selection__: for identifying meaningful attributes from which to create supervised models.\n",
    "* __Parameter Tuning__: for getting the most out of supervised models.\n",
    "* __Manifold Learning__: for summarizing and depicting complex multi-dimensional data.\n",
    "* __Supervised Models__: a vast array of algorithms, but not limited to generalized linear models, discriminate analysis, naive bayes, lazy methods, neural networks, support vector machines and decision trees.\n",
    "\n",
    "When approaching a machine learning problem, Scikit-learn provides a convenient flowchart that can guide you in algorithm selection."
   ]
  },
  {
   "cell_type": "markdown",
   "metadata": {},
   "source": [
    "<BR CLEAR=\"left\">\n",
    "<img src=\"images_ML/03_09.png\" style=\"width: 1000px;\" align=\"left\"/>\n",
    "<BR CLEAR=\"left\">"
   ]
  },
  {
   "cell_type": "code",
   "execution_count": null,
   "metadata": {},
   "outputs": [],
   "source": []
  },
  {
   "cell_type": "markdown",
   "metadata": {},
   "source": [
    "## Preprocessing data\n",
    "\n",
    "### Data representation in Scikit-learn\n",
    "\n",
    "* Features/targets\n",
    "* Data dimensions\n",
    "* Biological sequences\n",
    "* Images\n",
    "* Time series measurements\n",
    "\n",
    "\n",
    "### Scaling and normalisation\n",
    "* Applies to input and targets\n",
    "* standardisation\n",
    "\n",
    "\n",
    "### Whitening data\n",
    "\n",
    "\n",
    "### Missing values\n",
    "* Remove all rows\n",
    "* Fill in with mean, zeros, predicted values\n",
    "\n",
    "\n",
    "### Dataset balance\n",
    "* Smote\n",
    "* Oversampling\n",
    "* Collect more data\n",
    "* Make a point that imbalanced data can cause problems.\n",
    "\n",
    "\n"
   ]
  },
  {
   "cell_type": "code",
   "execution_count": null,
   "metadata": {},
   "outputs": [],
   "source": []
  },
  {
   "cell_type": "markdown",
   "metadata": {},
   "source": []
  },
  {
   "cell_type": "code",
   "execution_count": null,
   "metadata": {},
   "outputs": [],
   "source": []
  },
  {
   "cell_type": "code",
   "execution_count": null,
   "metadata": {},
   "outputs": [],
   "source": []
  },
  {
   "cell_type": "markdown",
   "metadata": {},
   "source": [
    "## Examples\n",
    "\n",
    "- arbitrary data\n",
    "-- Classify colours as warm, hot, cool, dull etc.\n",
    "\n",
    "\n",
    "\n",
    "## Data exploration\n",
    "* Feature selection\n",
    "\n",
    "\n",
    "\n",
    "## Unsupervised learning\n",
    "\n",
    "-Mathematical\n",
    "-PCA\n",
    "-tSNE\n",
    "\n",
    "-Hieracial\n",
    "-DBscan\n",
    "\n",
    "\n",
    "- Read docs for more examples\n",
    "\n",
    "\n"
   ]
  },
  {
   "cell_type": "markdown",
   "metadata": {},
   "source": [
    "## Supervised learning\n",
    "\n",
    "- Logistic regression\n",
    "- knearest neighbour\n",
    "- SVMs\n",
    "- xgboost\n"
   ]
  },
  {
   "cell_type": "markdown",
   "metadata": {},
   "source": [
    "## Algorithm selection\n",
    "\n",
    "\n",
    "\n",
    "\n",
    "\n",
    "## Model training\n",
    "* Cross validation\n",
    "* Test/trg/validation sets\n",
    "\n",
    "\n",
    "\n"
   ]
  },
  {
   "cell_type": "code",
   "execution_count": null,
   "metadata": {},
   "outputs": [],
   "source": []
  },
  {
   "cell_type": "markdown",
   "metadata": {},
   "source": [
    "## Evaluating the model\n",
    "\n",
    "### Baselines\n",
    "* Lin reg/logistic reg\n",
    "* null hypothesis\n",
    "* random prediction\n",
    "\n",
    "### Loss metrics\n",
    "Different tasks (classification/regression) require different loss metrics.\n",
    "\n",
    "\n",
    "\n",
    "\n",
    "\n",
    "\n",
    "## Ensemble models\n",
    "\n",
    "\n",
    "\n"
   ]
  },
  {
   "cell_type": "code",
   "execution_count": null,
   "metadata": {},
   "outputs": [],
   "source": []
  },
  {
   "cell_type": "markdown",
   "metadata": {},
   "source": []
  },
  {
   "cell_type": "code",
   "execution_count": null,
   "metadata": {},
   "outputs": [],
   "source": []
  },
  {
   "cell_type": "code",
   "execution_count": null,
   "metadata": {},
   "outputs": [],
   "source": []
  },
  {
   "cell_type": "code",
   "execution_count": null,
   "metadata": {},
   "outputs": [],
   "source": []
  },
  {
   "cell_type": "markdown",
   "metadata": {},
   "source": [
    "## Keras and neural networks"
   ]
  },
  {
   "cell_type": "code",
   "execution_count": null,
   "metadata": {},
   "outputs": [],
   "source": []
  }
 ],
 "metadata": {
  "kernelspec": {
   "display_name": "Python 3",
   "language": "python",
   "name": "python3"
  },
  "language_info": {
   "codemirror_mode": {
    "name": "ipython",
    "version": 3
   },
   "file_extension": ".py",
   "mimetype": "text/x-python",
   "name": "python",
   "nbconvert_exporter": "python",
   "pygments_lexer": "ipython3",
   "version": "3.5.2"
  }
 },
 "nbformat": 4,
 "nbformat_minor": 2
}
