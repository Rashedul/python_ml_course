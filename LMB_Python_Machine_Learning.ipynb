{
 "cells": [
  {
   "cell_type": "markdown",
   "metadata": {},
   "source": [
    "# Machine learning in python\n",
    "## Giving machines the ability to learn from data"
   ]
  },
  {
   "cell_type": "markdown",
   "metadata": {},
   "source": [
    "This notebook makes up the introduction to machine learning in python lecture.\n",
    "\n",
    "It is assumed that you are familiar with programming in python and using numpy.\n",
    "\n",
    "This lecture aims to introduce you to the python package [scikit-learn](https://scikit-learn.org/stable/) and guide you through using it for machine learning.\n",
    "\n",
    "* "
   ]
  },
  {
   "cell_type": "markdown",
   "metadata": {},
   "source": [
    "# Machine learning basics\n",
    "\n",
    "\n",
    "## Three different types of machine learning\n",
    "<BR CLEAR=\"left\">\n",
    "<img src=\"images_ML/03_01.png\" style=\"width: 400px;\" align=\"left\"/>\n",
    "<BR CLEAR=\"left\">\n",
    "    \n",
    "    \n",
    "\n",
    "## Unsupervised learning:  Discovering structure in data\n",
    "\n",
    "### Clustering\n",
    "<BR CLEAR=\"left\">\n",
    "<img src=\"images_ML/03_02.png\" style=\"width: 300px;\" align=\"left\"/>\n",
    "<BR CLEAR=\"left\">\n",
    "\n",
    "\n",
    "### Dimensionality reduction\n",
    "### Manifold learning\n",
    "\n",
    "\n",
    "## Supervised learning: Making predictions\n",
    "\n",
    "### Classification\n",
    "### Regression\n",
    "\n",
    "\n",
    "### Solving interactive problems with reinforcement learning\n",
    "\n",
    "* Figure that shows basic RL process\n",
    "\n",
    "\n"
   ]
  },
  {
   "cell_type": "markdown",
   "metadata": {},
   "source": [
    "### A roadmap for building machine learning systems\n",
    "\n",
    "Figure showing process\n",
    "* Preprocessing data\n",
    "* Algorithm selection and training\n",
    "* Evaluation of model\n",
    "* Application of model on new data\n",
    "\n",
    "\n",
    "#### This lecture will demonstrate applying this process to [insert example here]\n"
   ]
  },
  {
   "cell_type": "code",
   "execution_count": null,
   "metadata": {},
   "outputs": [],
   "source": []
  },
  {
   "cell_type": "markdown",
   "metadata": {},
   "source": [
    "## Scikit-learn\n",
    "\n",
    "What is scikit-learn {Todo}"
   ]
  },
  {
   "cell_type": "code",
   "execution_count": null,
   "metadata": {},
   "outputs": [],
   "source": []
  },
  {
   "cell_type": "markdown",
   "metadata": {},
   "source": [
    "![Scikit-learn algorithm cheat sheet](images_ML/scikit-learn_cheat-sheet.png)"
   ]
  },
  {
   "cell_type": "code",
   "execution_count": null,
   "metadata": {},
   "outputs": [],
   "source": []
  },
  {
   "cell_type": "markdown",
   "metadata": {},
   "source": [
    "## Preprocessing data\n",
    "\n",
    "### Data representation in Scikit-learn\n",
    "\n",
    "* Features\n",
    "* Biological sequences\n",
    "* Images\n",
    "* Time series measurements\n",
    "\n",
    "\n",
    "### Scaling and normalisation\n",
    "* Applies to input and targets\n",
    "\n",
    "\n",
    "### Whitening data\n",
    "\n",
    "\n",
    "### Missing values\n"
   ]
  },
  {
   "cell_type": "code",
   "execution_count": null,
   "metadata": {},
   "outputs": [],
   "source": []
  },
  {
   "cell_type": "markdown",
   "metadata": {},
   "source": []
  },
  {
   "cell_type": "code",
   "execution_count": null,
   "metadata": {},
   "outputs": [],
   "source": []
  },
  {
   "cell_type": "code",
   "execution_count": null,
   "metadata": {},
   "outputs": [],
   "source": []
  },
  {
   "cell_type": "markdown",
   "metadata": {},
   "source": [
    "## Data preprocessing\n",
    "\n",
    "## Data exploration\n",
    "\n",
    "## Unsupervised learning"
   ]
  },
  {
   "cell_type": "code",
   "execution_count": null,
   "metadata": {},
   "outputs": [],
   "source": []
  },
  {
   "cell_type": "markdown",
   "metadata": {},
   "source": [
    "## Algorithm selection\n",
    "\n",
    "\n",
    "\n",
    "\n",
    "## Model training"
   ]
  },
  {
   "cell_type": "code",
   "execution_count": null,
   "metadata": {},
   "outputs": [],
   "source": []
  },
  {
   "cell_type": "markdown",
   "metadata": {},
   "source": [
    "## Evaluating the model\n",
    "\n",
    "\n",
    "\n",
    "## Ensemble models"
   ]
  },
  {
   "cell_type": "code",
   "execution_count": null,
   "metadata": {},
   "outputs": [],
   "source": []
  },
  {
   "cell_type": "markdown",
   "metadata": {},
   "source": []
  },
  {
   "cell_type": "code",
   "execution_count": null,
   "metadata": {},
   "outputs": [],
   "source": []
  },
  {
   "cell_type": "code",
   "execution_count": null,
   "metadata": {},
   "outputs": [],
   "source": []
  },
  {
   "cell_type": "code",
   "execution_count": null,
   "metadata": {},
   "outputs": [],
   "source": []
  },
  {
   "cell_type": "markdown",
   "metadata": {},
   "source": [
    "## Keras and neural networks"
   ]
  },
  {
   "cell_type": "code",
   "execution_count": null,
   "metadata": {},
   "outputs": [],
   "source": []
  }
 ],
 "metadata": {
  "kernelspec": {
   "display_name": "Python 3",
   "language": "python",
   "name": "python3"
  },
  "language_info": {
   "codemirror_mode": {
    "name": "ipython",
    "version": 3
   },
   "file_extension": ".py",
   "mimetype": "text/x-python",
   "name": "python",
   "nbconvert_exporter": "python",
   "pygments_lexer": "ipython3",
   "version": "3.5.2"
  }
 },
 "nbformat": 4,
 "nbformat_minor": 2
}
