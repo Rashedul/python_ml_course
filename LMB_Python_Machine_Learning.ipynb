{
 "cells": [
  {
   "cell_type": "markdown",
   "metadata": {},
   "source": [
    "# Machine learning in python"
   ]
  },
  {
   "cell_type": "markdown",
   "metadata": {},
   "source": [
    "# Machine learning basics\n",
    "\n",
    "## What is machine learning?\n",
    "Fundamentally, machine learning involves building mathematical models that help understand data. The learning component arises from the way models have tunable parameters that can be adjusted to fit to some training data. Ideally, once these models have been fit to previously seen training data, they are able to predict some aspect of newly observed data.\n",
    "\n",
    "This lecture aims to teach you the basic concepts of machine learning, typical machine learning workflows and code based examples for simple problems using python and [scikit-learn](https://scikit-learn.org)."
   ]
  },
  {
   "cell_type": "markdown",
   "metadata": {},
   "source": [
    "## Three different types of machine learning\n",
    "<BR CLEAR=\"left\">\n",
    "<img src=\"images_ML/03_01.png\" style=\"width: 400px;\" align=\"left\"/>\n",
    "<BR CLEAR=\"left\">\n",
    "    \n",
    "    \n",
    "\n",
    "## Unsupervised learning:  Discovering structure in data\n",
    "Unsupervised learning involves models that describe data without reference to any known labels.\n",
    "\n",
    "\n",
    "### Clustering - Inferring labels on unlabeled data\n",
    "One common case of unsupervised learning is clustering. Here data is automatically assigned to some number of discrete groups. For example, we might have some two-dimensional data like that shown in the following figure:\n",
    "<BR CLEAR=\"left\">\n",
    "<img src=\"images_ML/03_02.png\" style=\"width: 300px;\" align=\"left\"/>\n",
    "<BR CLEAR=\"left\">\n",
    "\n",
    "By eye, it is very clear that the points belong to three distinct and separate classes. Given the input of points, a clustering algorithm will use the intrinsic structure of the data to determine which points are related to each other. An example algorithm for this is [k-means clustering](https://scikit-learn.org/stable/modules/clustering.html#k-means).\n",
    "\n",
    "\n",
    "\n",
    "\n",
    "### Dimensionality reduction and manifold learning - Inferring structure on unlabeled data\n",
    "Dimensionality reduction is another example of unsupervised learning. However, unlike clustering, dimensionality reduction attempts to extract a lower dimensional representation of the data whilst preserving the relevant qualities of the full dataset. In the following examples, we can see how different dimensionality reduction algorithms transform 3d data into a 2d representation.\n",
    "\n",
    "<BR CLEAR=\"left\">\n",
    "<img src=\"images_ML/03_03.png\" style=\"width: 800px;\" align=\"left\"/>\n",
    "<BR CLEAR=\"left\">\n",
    "<img src=\"images_ML/03_04.png\" style=\"width: 800px;\" align=\"left\"/>\n",
    "<BR CLEAR=\"left\">\n",
    "\n",
    "SciKit-learn has a large number of algorithms for [dimensionality reduction](https://scikit-learn.org/stable/modules/decomposition.html#decompositions).\n",
    "\n",
    "\n",
    "## Supervised learning: Making predictions\n",
    "\n",
    "### Classification - Predicting discrete labels\n",
    "Classification algorithms are supervised learning methods that aim to group unseen data into some set number of labels. In this example, we have two-dimensional data. That is, we have two features for each point, represented by the (x,y) positions of the points on the plot.\n",
    "\n",
    "Further, we have one of two class labels for each point - represented by the colors of the points. From these features and labels, we would like to create a model that will let us decide whether a new point should be labeled \"blue\" or \"red.\"\n",
    "\n",
    "There are many classification algorithms available, each with their own strengths and weaknesses, but in this example, we will use a very simple linear classifier to separate the points. To do so, we will make the assumption that the two groups can be separated by drawing a straight line through the plane between them, such that points on each side of the line fall in the same group. The optimal values for these model parameters are learned from the data (this is the \"learning\" in machine learning), which is often called training the model.\n",
    "<BR CLEAR=\"left\">\n",
    "<img src=\"images_ML/03_05.png\" style=\"width: 300px;\" align=\"left\"/>\n",
    "<BR CLEAR=\"left\">\n",
    "\n",
    "This is the basic idea of a classification task in machine learning, where \"classification\" indicates that the data has known and discrete class labels. In the above example, this may look fairly trivial. However, most real datasets are significantly more complex, due to the size of the dataset and number of extra dimensions. For example, a protein sequence of length 100 has 2,000 dimensions. That being said, the advantage of the more advanced machine learning algorithms are that they are able to handle such sizes and dimensionality, whilst generalising to unseen data.\n",
    "\n",
    "SciKit-learn has a large number of common algorithms for [classification](https://scikit-learn.org/stable/supervised_learning.html#supervised-learning).\n",
    "\n",
    "\n",
    "### Regression - Predicting continuous labels\n",
    "In contrast with classification, which uses discrete labels, regression tasks are those where the labels are continuous quantities.\n",
    "\n",
    "Consider the following plot. As with the classification problem, the data is two-dimensional, however, unlike classification, this regression problem aims to predict the value of y for a given value of x.\n",
    "In this example, we have fit a simple linear regression model to the data.\n",
    "<BR CLEAR=\"left\">\n",
    "<img src=\"images_ML/03_06.png\" style=\"width: 300px;\" align=\"left\"/>\n",
    "<BR CLEAR=\"left\">\n",
    "\n",
    "Many of you will have come across regression models when dealing biological data, such as linear and logistic regression.\n",
    "\n",
    "### Solving interactive problems with reinforcement learning\n",
    "<BR CLEAR=\"left\">\n",
    "<img src=\"images_ML/03_07.png\" style=\"width: 400px;\" align=\"left\"/>\n",
    "<BR CLEAR=\"left\">\n",
    "\n",
    "\n"
   ]
  },
  {
   "cell_type": "markdown",
   "metadata": {},
   "source": [
    "## A roadmap for building machine learning systems\n",
    "\n",
    "Figure showing pipeline/process\n",
    "* Preprocessing data\n",
    "* Algorithm selection and training\n",
    "* Evaluation of model\n",
    "* Application of model on new data\n",
    "\n",
    "\n",
    "#### This lecture will demonstrate applying this process to [insert example here]\n"
   ]
  },
  {
   "cell_type": "code",
   "execution_count": null,
   "metadata": {},
   "outputs": [],
   "source": []
  },
  {
   "cell_type": "markdown",
   "metadata": {},
   "source": [
    "## Scikit-learn\n",
    "\n",
    "What is scikit-learn {Todo}"
   ]
  },
  {
   "cell_type": "code",
   "execution_count": null,
   "metadata": {},
   "outputs": [],
   "source": []
  },
  {
   "cell_type": "markdown",
   "metadata": {},
   "source": [
    "<BR CLEAR=\"left\">\n",
    "<img src=\"images_ML/03_09.png\" style=\"width: 1000px;\" align=\"left\"/>\n",
    "<BR CLEAR=\"left\">"
   ]
  },
  {
   "cell_type": "code",
   "execution_count": null,
   "metadata": {},
   "outputs": [],
   "source": []
  },
  {
   "cell_type": "markdown",
   "metadata": {},
   "source": [
    "## Preprocessing data\n",
    "\n",
    "### Data representation in Scikit-learn\n",
    "\n",
    "* Features\n",
    "* Biological sequences\n",
    "* Images\n",
    "* Time series measurements\n",
    "\n",
    "\n",
    "### Scaling and normalisation\n",
    "* Applies to input and targets\n",
    "\n",
    "\n",
    "### Whitening data\n",
    "\n",
    "\n",
    "### Missing values\n"
   ]
  },
  {
   "cell_type": "code",
   "execution_count": null,
   "metadata": {},
   "outputs": [],
   "source": []
  },
  {
   "cell_type": "markdown",
   "metadata": {},
   "source": []
  },
  {
   "cell_type": "code",
   "execution_count": null,
   "metadata": {},
   "outputs": [],
   "source": []
  },
  {
   "cell_type": "code",
   "execution_count": null,
   "metadata": {},
   "outputs": [],
   "source": []
  },
  {
   "cell_type": "markdown",
   "metadata": {},
   "source": [
    "## Data preprocessing\n",
    "\n",
    "## Data exploration\n",
    "\n",
    "## Unsupervised learning"
   ]
  },
  {
   "cell_type": "code",
   "execution_count": null,
   "metadata": {},
   "outputs": [],
   "source": []
  },
  {
   "cell_type": "markdown",
   "metadata": {},
   "source": [
    "## Algorithm selection\n",
    "\n",
    "\n",
    "\n",
    "\n",
    "## Model training"
   ]
  },
  {
   "cell_type": "code",
   "execution_count": null,
   "metadata": {},
   "outputs": [],
   "source": []
  },
  {
   "cell_type": "markdown",
   "metadata": {},
   "source": [
    "## Evaluating the model\n",
    "\n",
    "\n",
    "\n",
    "## Ensemble models"
   ]
  },
  {
   "cell_type": "code",
   "execution_count": null,
   "metadata": {},
   "outputs": [],
   "source": []
  },
  {
   "cell_type": "markdown",
   "metadata": {},
   "source": []
  },
  {
   "cell_type": "code",
   "execution_count": null,
   "metadata": {},
   "outputs": [],
   "source": []
  },
  {
   "cell_type": "code",
   "execution_count": null,
   "metadata": {},
   "outputs": [],
   "source": []
  },
  {
   "cell_type": "code",
   "execution_count": null,
   "metadata": {},
   "outputs": [],
   "source": []
  },
  {
   "cell_type": "markdown",
   "metadata": {},
   "source": [
    "## Keras and neural networks"
   ]
  },
  {
   "cell_type": "code",
   "execution_count": null,
   "metadata": {},
   "outputs": [],
   "source": []
  }
 ],
 "metadata": {
  "kernelspec": {
   "display_name": "Python 3",
   "language": "python",
   "name": "python3"
  },
  "language_info": {
   "codemirror_mode": {
    "name": "ipython",
    "version": 3
   },
   "file_extension": ".py",
   "mimetype": "text/x-python",
   "name": "python",
   "nbconvert_exporter": "python",
   "pygments_lexer": "ipython3",
   "version": "3.5.2"
  }
 },
 "nbformat": 4,
 "nbformat_minor": 2
}
