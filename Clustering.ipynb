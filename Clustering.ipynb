{
 "cells": [
  {
   "cell_type": "code",
   "execution_count": null,
   "metadata": {},
   "outputs": [],
   "source": [
    "%matplotlib inline\n",
    "import numpy as np\n",
    "from sklearn import cluster\n",
    "from matplotlib import pyplot as plt\n",
    "from numpy.random import normal, shuffle\n",
    "\n",
    "# Some random data in three blobs\n",
    "std  = 0.25\n",
    "n = 100\n",
    "data = [normal((0.0, 0.0), std, (n,2)),\n",
    "        normal((1.0, 1.0), std, (n,2)),\n",
    "        normal((1.0, 0.0), std, (n,2))]\n",
    "\n",
    "data = np.vstack(data)\n",
    "orig_labels = np.arange(0,3,1/n).astype(int)\n",
    "\n",
    "print(data.shape)\n",
    "print(orig_labels)"
   ]
  },
  {
   "cell_type": "code",
   "execution_count": null,
   "metadata": {},
   "outputs": [],
   "source": [
    "x_vals, y_vals = np.hsplit(data, 2)\n",
    "plt.scatter(x_vals, y_vals, alpha=0.5)\n",
    "plt.show()"
   ]
  },
  {
   "cell_type": "code",
   "execution_count": null,
   "metadata": {},
   "outputs": [],
   "source": [
    "def cluster_scatter(plot, data, labels):\n",
    "    x_vals, y_vals = np.hsplit(data, 2)\n",
    "    \n",
    "    for k in range(labels.max()+1):\n",
    "        idx = labels == k\n",
    "        plot.scatter(x_vals[idx], y_vals[idx], alpha=0.5)  \n",
    "\n",
    "cluster_scatter(plt, data, orig_labels)\n",
    "plt.show()"
   ]
  },
  {
   "cell_type": "code",
   "execution_count": null,
   "metadata": {},
   "outputs": [],
   "source": [
    "model = cluster.KMeans(3)\n",
    "labels = model.fit_predict(data)"
   ]
  },
  {
   "cell_type": "code",
   "execution_count": null,
   "metadata": {},
   "outputs": [],
   "source": [
    "fig, (sp1, sp2) = plt.subplots(1,2)\n",
    "\n",
    "cluster_scatter(sp1, data, labels)\n",
    "cluster_scatter(sp2, data, orig_labels)\n",
    "    \n",
    "sp1.set_title('K-means')\n",
    "sp2.set_title('Input')\n",
    "plt.show()"
   ]
  },
  {
   "cell_type": "code",
   "execution_count": null,
   "metadata": {},
   "outputs": [],
   "source": [
    "model = cluster.KMeans(4)\n",
    "labels = model.fit_predict(data)\n",
    "\n",
    "cluster_scatter(plt, data, labels)\n",
    "\n",
    "plt.show()\n"
   ]
  },
  {
   "cell_type": "code",
   "execution_count": null,
   "metadata": {},
   "outputs": [],
   "source": [
    "fig, (sp1, sp2) = plt.subplots(1,2)\n",
    "\n",
    "model1 = cluster.DBSCAN(0.15, 10)\n",
    "labels1 = model1.fit_predict(data)\n",
    "\n",
    "model2 = cluster.DBSCAN(0.1, 5)\n",
    "labels2 = model2.fit_predict(data)\n",
    "\n",
    "cluster_scatter(sp1, data, labels1)\n",
    "cluster_scatter(sp2, data, labels2)\n",
    "\n",
    "plt.show()"
   ]
  },
  {
   "cell_type": "code",
   "execution_count": null,
   "metadata": {},
   "outputs": [],
   "source": [
    "hier_model = cluster.Ward(3)\n",
    "labels = hier_model.fit_predict(data)\n",
    "\n",
    "cluster_scatter(plt, data, labels)\n",
    "plt.show()"
   ]
  }
 ],
 "metadata": {
  "kernelspec": {
   "display_name": "Python 3",
   "language": "python",
   "name": "python3"
  },
  "language_info": {
   "codemirror_mode": {
    "name": "ipython",
    "version": 3
   },
   "file_extension": ".py",
   "mimetype": "text/x-python",
   "name": "python",
   "nbconvert_exporter": "python",
   "pygments_lexer": "ipython3",
   "version": "3.4.3"
  }
 },
 "nbformat": 4,
 "nbformat_minor": 2
}
